{
 "cells": [
  {
   "cell_type": "markdown",
   "metadata": {},
   "source": [
    "Correlation between news and stock movement\n"
   ]
  },
  {
   "cell_type": "code",
   "execution_count": 8,
   "metadata": {},
   "outputs": [],
   "source": [
    "import pandas as pd\n",
    "import numpy as np\n",
    "from nltk.sentiment.vader import SentimentIntensityAnalyzer\n",
    "import talib\n"
   ]
  },
  {
   "cell_type": "code",
   "execution_count": 14,
   "metadata": {},
   "outputs": [],
   "source": [
    "# Load the news and stock price data\n",
    "news = pd.read_csv('../data/news.csv')\n",
    "stock_prices = pd.read_csv('../data/stock_prices_df.csv')"
   ]
  },
  {
   "cell_type": "code",
   "execution_count": 17,
   "metadata": {},
   "outputs": [
    {
     "data": {
      "text/plain": [
       "Index(['Unnamed: 0', 'headline', 'url', 'publisher', 'date', 'stock',\n",
       "       'headline_length', 'day_of_week', 'year', 'month', 'day', 'sentiment',\n",
       "       'sentiment_category', 'hour_of_publication', 'hour', 'publisher_domain',\n",
       "       'email_domain'],\n",
       "      dtype='object')"
      ]
     },
     "execution_count": 17,
     "metadata": {},
     "output_type": "execute_result"
    }
   ],
   "source": [
    "stock_prices.columns\n",
    "\n",
    "news.columns"
   ]
  },
  {
   "cell_type": "code",
   "execution_count": 32,
   "metadata": {},
   "outputs": [],
   "source": [
    "news['date'] = pd.to_datetime(news['date'])\n",
    "# Check if the stock_prices DataFrame has a column named 'date'\n",
    "if 'date' in stock_prices.columns:\n",
    "    # Convert the 'date' column to a datetime object\n",
    "    stock_prices['Date'] = pd.to_datetime(stock_prices['Date'])\n",
    "else:\n",
    "    # Create a new 'date' column and populate it with the appropriate dates\n",
    "    stock_prices['Date'] = pd.to_datetime(stock_prices['Date'])"
   ]
  },
  {
   "cell_type": "code",
   "execution_count": 34,
   "metadata": {},
   "outputs": [
    {
     "name": "stdout",
     "output_type": "stream",
     "text": [
      "datetime64[ns, UTC]\n",
      "datetime64[ns]\n"
     ]
    }
   ],
   "source": [
    "print(news['date'].dtype)\n",
    "print(stock_prices['Date'].dtype)"
   ]
  },
  {
   "cell_type": "code",
   "execution_count": 44,
   "metadata": {},
   "outputs": [
    {
     "name": "stdout",
     "output_type": "stream",
     "text": [
      "datetime64[ns]\n"
     ]
    }
   ],
   "source": [
    "news['date'] = pd.to_datetime(news['date']).dt.tz_localize(None)\n",
    "print(news['date'].dtype)"
   ]
  },
  {
   "cell_type": "code",
   "execution_count": 45,
   "metadata": {},
   "outputs": [],
   "source": [
    "\n",
    "# Merge the data on the date column\n",
    "data = pd.merge(news, stock_prices, left_on='date', right_on='Date', how='inner')"
   ]
  },
  {
   "cell_type": "code",
   "execution_count": 46,
   "metadata": {},
   "outputs": [
    {
     "data": {
      "text/plain": [
       "0    0.0\n",
       "Name: sentiment_score, dtype: float64"
      ]
     },
     "execution_count": 46,
     "metadata": {},
     "output_type": "execute_result"
    }
   ],
   "source": [
    "#Perform sentiment analysis on the news headlines\n",
    "analyzer = SentimentIntensityAnalyzer()\n",
    "data['sentiment_score'] = data['headline'].apply(lambda x: analyzer.polarity_scores(x)['compound'])\n",
    "data['sentiment_score']"
   ]
  },
  {
   "cell_type": "code",
   "execution_count": 47,
   "metadata": {},
   "outputs": [
    {
     "name": "stdout",
     "output_type": "stream",
     "text": [
      "Sentiment distribution:\n",
      "sentiment_category\n",
      "Neutral    1\n",
      "Name: count, dtype: int64\n"
     ]
    }
   ],
   "source": [
    "\n",
    "# Categorize sentiment\n",
    "data['sentiment_category'] = data['sentiment'].apply(lambda x: 'Positive' if x > 0 else ('Negative' if x < 0 else 'Neutral'))\n",
    "\n",
    "# Count sentiment categories\n",
    "sentiment_counts = data['sentiment_category'].value_counts()\n",
    "print(\"Sentiment distribution:\")\n",
    "print(sentiment_counts)\n",
    "\n",
    "\n"
   ]
  },
  {
   "cell_type": "code",
   "execution_count": 50,
   "metadata": {},
   "outputs": [
    {
     "data": {
      "text/plain": [
       "0   NaN\n",
       "Name: daily_return, dtype: float64"
      ]
     },
     "execution_count": 50,
     "metadata": {},
     "output_type": "execute_result"
    }
   ],
   "source": [
    "\n",
    "# Calculate daily stock returns\n",
    "data['daily_return'] = data['Close'].pct_change()\n",
    "data['daily_return'] "
   ]
  },
  {
   "cell_type": "code",
   "execution_count": 51,
   "metadata": {},
   "outputs": [
    {
     "name": "stdout",
     "output_type": "stream",
     "text": [
      "                 sentiment_score  daily_return\n",
      "sentiment_score              NaN           NaN\n",
      "daily_return                 NaN           NaN\n"
     ]
    }
   ],
   "source": [
    "# Calculate the correlation between sentiment scores and daily returns\n",
    "corr = data[['sentiment_score', 'daily_return']].corr()\n",
    "\n",
    "# Print the correlation coefficient\n",
    "print(corr)"
   ]
  }
 ],
 "metadata": {
  "kernelspec": {
   "display_name": "Python 3",
   "language": "python",
   "name": "python3"
  },
  "language_info": {
   "codemirror_mode": {
    "name": "ipython",
    "version": 3
   },
   "file_extension": ".py",
   "mimetype": "text/x-python",
   "name": "python",
   "nbconvert_exporter": "python",
   "pygments_lexer": "ipython3",
   "version": "3.11.1"
  }
 },
 "nbformat": 4,
 "nbformat_minor": 2
}
