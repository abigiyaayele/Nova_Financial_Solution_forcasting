{
 "cells": [
  {
   "cell_type": "markdown",
   "metadata": {},
   "source": [
    "task 2\n"
   ]
  },
  {
   "cell_type": "markdown",
   "metadata": {},
   "source": [
    "stock price\n"
   ]
  },
  {
   "cell_type": "code",
   "execution_count": 3,
   "metadata": {},
   "outputs": [],
   "source": [
    "import yfinance as yf\n",
    "\n",
    "import pandas as pd\n",
    "import matplotlib.pyplot as plt\n",
    "import plotly.express as px\n",
    "import pyfolio as pf\n",
    "from datetime import datetime , timedelta\n"
   ]
  },
  {
   "cell_type": "code",
   "execution_count": 4,
   "metadata": {},
   "outputs": [],
   "source": [
    "df = pd.read_csv('../data/raw_analyst_ratings.csv')"
   ]
  },
  {
   "cell_type": "code",
   "execution_count": 8,
   "metadata": {},
   "outputs": [
    {
     "name": "stdout",
     "output_type": "stream",
     "text": [
      "   Unnamed: 0                                           headline  \\\n",
      "0           0            Stocks That Hit 52-Week Highs On Friday   \n",
      "1           1         Stocks That Hit 52-Week Highs On Wednesday   \n",
      "2           2                      71 Biggest Movers From Friday   \n",
      "3           3       46 Stocks Moving In Friday's Mid-Day Session   \n",
      "4           4  B of A Securities Maintains Neutral on Agilent...   \n",
      "\n",
      "                                                 url          publisher  \\\n",
      "0  https://www.benzinga.com/news/20/06/16190091/s...  Benzinga Insights   \n",
      "1  https://www.benzinga.com/news/20/06/16170189/s...  Benzinga Insights   \n",
      "2  https://www.benzinga.com/news/20/05/16103463/7...         Lisa Levin   \n",
      "3  https://www.benzinga.com/news/20/05/16095921/4...         Lisa Levin   \n",
      "4  https://www.benzinga.com/news/20/05/16095304/b...         Vick Meyer   \n",
      "\n",
      "                        date stock  \n",
      "0  2020-06-05 10:30:54-04:00     A  \n",
      "1  2020-06-03 10:45:20-04:00     A  \n",
      "2  2020-05-26 04:30:07-04:00     A  \n",
      "3  2020-05-22 12:45:06-04:00     A  \n",
      "4  2020-05-22 11:38:59-04:00     A  \n"
     ]
    }
   ],
   "source": [
    "print(df.head())"
   ]
  },
  {
   "cell_type": "code",
   "execution_count": 19,
   "metadata": {},
   "outputs": [
    {
     "data": {
      "text/plain": [
       "0          2020-06-05 10:30:54-04:00\n",
       "1          2020-06-03 10:45:20-04:00\n",
       "2          2020-05-26 04:30:07-04:00\n",
       "3          2020-05-22 12:45:06-04:00\n",
       "4          2020-05-22 11:38:59-04:00\n",
       "                     ...            \n",
       "1407323          2011-08-29 00:00:00\n",
       "1407324          2011-06-22 00:00:00\n",
       "1407325          2011-06-21 00:00:00\n",
       "1407326          2011-06-21 00:00:00\n",
       "1407327          2011-05-12 00:00:00\n",
       "Name: date, Length: 1407328, dtype: object"
      ]
     },
     "execution_count": 19,
     "metadata": {},
     "output_type": "execute_result"
    }
   ],
   "source": [
    "df['date'] \n",
    "\n"
   ]
  },
  {
   "cell_type": "markdown",
   "metadata": {},
   "source": [
    "covert Convert the 'date' column to datetime objects"
   ]
  },
  {
   "cell_type": "code",
   "execution_count": 25,
   "metadata": {},
   "outputs": [],
   "source": [
    "import datetime\n",
    "\n",
    "def str_to_datetime(s):\n",
    "    split = s.split('-')\n",
    "    year, month, day = int(split[0]), int(split[1]), int(split[2].split()[0])\n",
    "    return datetime.datetime(year=year, month=month, day=day)\n"
   ]
  },
  {
   "cell_type": "code",
   "execution_count": 26,
   "metadata": {},
   "outputs": [
    {
     "data": {
      "text/plain": [
       "0         2020-06-05\n",
       "1         2020-06-03\n",
       "2         2020-05-26\n",
       "3         2020-05-22\n",
       "4         2020-05-22\n",
       "             ...    \n",
       "1407323   2011-08-29\n",
       "1407324   2011-06-22\n",
       "1407325   2011-06-21\n",
       "1407326   2011-06-21\n",
       "1407327   2011-05-12\n",
       "Name: date, Length: 1407328, dtype: datetime64[ns]"
      ]
     },
     "execution_count": 26,
     "metadata": {},
     "output_type": "execute_result"
    }
   ],
   "source": [
    "df['date']=df['date'].apply(str_to_datetime)\n",
    "df['date']\n",
    "\n",
    "# Now the 'date' column in your DataFrame 'df' is converted to datetime objects"
   ]
  },
  {
   "cell_type": "markdown",
   "metadata": {},
   "source": [
    "Determine date ranges and fetch stock data.\n"
   ]
  },
  {
   "cell_type": "code",
   "execution_count": 32,
   "metadata": {},
   "outputs": [
    {
     "name": "stdout",
     "output_type": "stream",
     "text": [
      "stock symbol ['A' 'AA' 'AAC' ... 'ZU' 'ZUMZ' 'ZX']\n",
      "stock date range\n"
     ]
    },
    {
     "data": {
      "text/html": [
       "<div>\n",
       "<style scoped>\n",
       "    .dataframe tbody tr th:only-of-type {\n",
       "        vertical-align: middle;\n",
       "    }\n",
       "\n",
       "    .dataframe tbody tr th {\n",
       "        vertical-align: top;\n",
       "    }\n",
       "\n",
       "    .dataframe thead th {\n",
       "        text-align: right;\n",
       "    }\n",
       "</style>\n",
       "<table border=\"1\" class=\"dataframe\">\n",
       "  <thead>\n",
       "    <tr style=\"text-align: right;\">\n",
       "      <th></th>\n",
       "      <th>min</th>\n",
       "      <th>max</th>\n",
       "    </tr>\n",
       "    <tr>\n",
       "      <th>stock</th>\n",
       "      <th></th>\n",
       "      <th></th>\n",
       "    </tr>\n",
       "  </thead>\n",
       "  <tbody>\n",
       "    <tr>\n",
       "      <th>A</th>\n",
       "      <td>2009-04-29</td>\n",
       "      <td>2020-06-05</td>\n",
       "    </tr>\n",
       "    <tr>\n",
       "      <th>AA</th>\n",
       "      <td>2009-08-10</td>\n",
       "      <td>2020-06-09</td>\n",
       "    </tr>\n",
       "    <tr>\n",
       "      <th>AAC</th>\n",
       "      <td>2010-03-25</td>\n",
       "      <td>2019-10-25</td>\n",
       "    </tr>\n",
       "    <tr>\n",
       "      <th>AADR</th>\n",
       "      <td>2013-03-05</td>\n",
       "      <td>2013-09-06</td>\n",
       "    </tr>\n",
       "    <tr>\n",
       "      <th>AAL</th>\n",
       "      <td>2011-05-16</td>\n",
       "      <td>2020-06-10</td>\n",
       "    </tr>\n",
       "    <tr>\n",
       "      <th>...</th>\n",
       "      <td>...</td>\n",
       "      <td>...</td>\n",
       "    </tr>\n",
       "    <tr>\n",
       "      <th>ZTR</th>\n",
       "      <td>2009-08-10</td>\n",
       "      <td>2020-03-19</td>\n",
       "    </tr>\n",
       "    <tr>\n",
       "      <th>ZTS</th>\n",
       "      <td>2013-01-17</td>\n",
       "      <td>2020-06-11</td>\n",
       "    </tr>\n",
       "    <tr>\n",
       "      <th>ZU</th>\n",
       "      <td>2013-11-14</td>\n",
       "      <td>2020-01-09</td>\n",
       "    </tr>\n",
       "    <tr>\n",
       "      <th>ZUMZ</th>\n",
       "      <td>2009-11-16</td>\n",
       "      <td>2020-06-05</td>\n",
       "    </tr>\n",
       "    <tr>\n",
       "      <th>ZX</th>\n",
       "      <td>2011-05-12</td>\n",
       "      <td>2018-06-15</td>\n",
       "    </tr>\n",
       "  </tbody>\n",
       "</table>\n",
       "<p>6204 rows × 2 columns</p>\n",
       "</div>"
      ],
      "text/plain": [
       "             min        max\n",
       "stock                      \n",
       "A     2009-04-29 2020-06-05\n",
       "AA    2009-08-10 2020-06-09\n",
       "AAC   2010-03-25 2019-10-25\n",
       "AADR  2013-03-05 2013-09-06\n",
       "AAL   2011-05-16 2020-06-10\n",
       "...          ...        ...\n",
       "ZTR   2009-08-10 2020-03-19\n",
       "ZTS   2013-01-17 2020-06-11\n",
       "ZU    2013-11-14 2020-01-09\n",
       "ZUMZ  2009-11-16 2020-06-05\n",
       "ZX    2011-05-12 2018-06-15\n",
       "\n",
       "[6204 rows x 2 columns]"
      ]
     },
     "execution_count": 32,
     "metadata": {},
     "output_type": "execute_result"
    }
   ],
   "source": [
    "stock_symbols = df['stock'].unique()  # Get unique stock symbols\n",
    "\n",
    "stock_date_ranges = df.groupby('stock')['date'].agg(['min', 'max'])\n",
    "print(\"stock symbol\",stock_symbols)\n",
    "\n",
    "print(\"stock date range\" )\n",
    "stock_date_ranges"
   ]
  },
  {
   "cell_type": "markdown",
   "metadata": {},
   "source": [
    "Fetch stock prices for each stock based on the calculated date ranges"
   ]
  },
  {
   "cell_type": "code",
   "execution_count": 38,
   "metadata": {},
   "outputs": [
    {
     "name": "stdout",
     "output_type": "stream",
     "text": [
      "Start Date for ZX: 2011-05-12 00:00:00\n",
      "End Date for ZX: 2018-06-15 00:00:00\n"
     ]
    }
   ],
   "source": [
    "# Fetch stock data using yfinance\n",
    "#to access the stock data of specific stocks\n",
    "zx_dates = stock_date_ranges.loc['ZX']\n",
    "\n",
    "# Extract the start and end dates for the stock symbol \"ZX\"\n",
    "start_date_zx = zx_dates['min']\n",
    "end_date_zx = zx_dates['max']\n",
    "\n",
    "print(\"Start Date for ZX:\", start_date_zx)\n",
    "print(\"End Date for ZX:\", end_date_zx)\n",
    "# Access stock data for a specific symbol\n",
    "#print(stock_data['A'].head())"
   ]
  },
  {
   "cell_type": "code",
   "execution_count": 42,
   "metadata": {},
   "outputs": [
    {
     "name": "stderr",
     "output_type": "stream",
     "text": [
      "[*********************100%%**********************]  1 of 1 completed\n"
     ]
    },
    {
     "name": "stdout",
     "output_type": "stream",
     "text": [
      "AA: Earliest Date - 1962-01-02, Latest Date - 2024-04-30\n"
     ]
    },
    {
     "name": "stderr",
     "output_type": "stream",
     "text": [
      "[*********************100%%**********************]  1 of 1 completed\n"
     ]
    },
    {
     "name": "stdout",
     "output_type": "stream",
     "text": [
      "                 Open       High        Low      Close  Adj Close   Volume\n",
      "Date                                                                      \n",
      "1962-01-02   0.000000   6.583219   6.545672   6.545672   1.506892    55930\n",
      "1962-01-03   6.545672   6.645797   6.533156   6.645797   1.529942    74906\n",
      "1962-01-04   6.645797   6.695859   6.645797   6.645797   1.529942    80899\n",
      "1962-01-05   6.645797   6.683344   6.620766   6.633281   1.527061    70911\n",
      "1962-01-08   6.608250   6.608250   6.357938   6.408000   1.475198    93883\n",
      "...               ...        ...        ...        ...        ...      ...\n",
      "2024-04-23  35.000000  36.395000  34.509998  36.060001  36.060001  7574400\n",
      "2024-04-24  35.959999  36.549999  35.740002  36.080002  36.080002  5706800\n",
      "2024-04-25  35.860001  36.060001  34.779999  35.939999  35.939999  4467400\n",
      "2024-04-26  36.509998  37.389999  36.230000  36.880001  36.880001  5653300\n",
      "2024-04-29  36.880001  38.200001  36.650002  37.650002  37.650002  5667100\n",
      "\n",
      "[15688 rows x 6 columns]\n"
     ]
    },
    {
     "name": "stderr",
     "output_type": "stream",
     "text": [
      "[*********************100%%**********************]  1 of 1 completed\n",
      "[*********************100%%**********************]  1 of 1 completed\n"
     ]
    },
    {
     "name": "stdout",
     "output_type": "stream",
     "text": [
      "A: Earliest Date - 1999-11-18, Latest Date - 2024-05-01\n",
      "                  Open        High         Low       Close   Adj Close  \\\n",
      "Date                                                                     \n",
      "1999-11-18   32.546494   35.765381   28.612303   31.473534   26.652403   \n",
      "1999-11-19   30.713518   30.758226   28.478184   28.880545   24.456604   \n",
      "1999-11-22   29.551144   31.473534   28.657009   31.473534   26.652403   \n",
      "1999-11-23   30.400572   31.205294   28.612303   28.612303   24.229445   \n",
      "1999-11-24   28.701717   29.998213   28.612303   29.372318   24.873051   \n",
      "...                ...         ...         ...         ...         ...   \n",
      "2024-04-24  138.339996  139.889999  136.210007  137.490005  137.490005   \n",
      "2024-04-25  137.059998  137.210007  134.119995  136.369995  136.369995   \n",
      "2024-04-26  136.449997  138.360001  135.000000  137.740005  137.740005   \n",
      "2024-04-29  138.259995  139.869995  137.880005  139.589996  139.589996   \n",
      "2024-04-30  138.600006  139.649994  136.970001  137.039993  137.039993   \n",
      "\n",
      "              Volume  \n",
      "Date                  \n",
      "1999-11-18  62546380  \n",
      "1999-11-19  15234146  \n",
      "1999-11-22   6577870  \n",
      "1999-11-23   5975611  \n",
      "1999-11-24   4843231  \n",
      "...              ...  \n",
      "2024-04-24   1553200  \n",
      "2024-04-25    940800  \n",
      "2024-04-26    754900  \n",
      "2024-04-29    781200  \n",
      "2024-04-30   1087300  \n",
      "\n",
      "[6150 rows x 6 columns]\n"
     ]
    },
    {
     "name": "stderr",
     "output_type": "stream",
     "text": [
      "[*********************100%%**********************]  1 of 1 completed\n"
     ]
    },
    {
     "name": "stdout",
     "output_type": "stream",
     "text": [
      "AAL: Earliest Date - 2005-09-27, Latest Date - 2024-05-01\n"
     ]
    },
    {
     "name": "stderr",
     "output_type": "stream",
     "text": [
      "[*********************100%%**********************]  1 of 1 completed"
     ]
    },
    {
     "name": "stdout",
     "output_type": "stream",
     "text": [
      "                 Open       High        Low      Close  Adj Close    Volume\n",
      "Date                                                                       \n",
      "2005-09-27  21.049999  21.400000  19.100000  19.299999  18.194910    961200\n",
      "2005-09-28  19.299999  20.530001  19.200001  20.500000  19.326200   5747900\n",
      "2005-09-29  20.400000  20.580000  20.100000  20.209999  19.052807   1078200\n",
      "2005-09-30  20.260000  21.049999  20.180000  21.010000  19.806999   3123300\n",
      "2005-10-03  20.900000  21.750000  20.900000  21.500000  20.268944   1057900\n",
      "...               ...        ...        ...        ...        ...       ...\n",
      "2024-04-24  14.220000  14.330000  13.820000  13.920000  13.920000  41035100\n",
      "2024-04-25  14.210000  14.280000  13.450000  14.130000  14.130000  58363000\n",
      "2024-04-26  14.070000  14.090000  13.640000  13.880000  13.880000  36527800\n",
      "2024-04-29  13.850000  14.020000  13.730000  13.980000  13.980000  28817400\n",
      "2024-04-30  13.850000  13.930000  13.500000  13.510000  13.510000  25770800\n",
      "\n",
      "[4679 rows x 6 columns]\n"
     ]
    },
    {
     "name": "stderr",
     "output_type": "stream",
     "text": [
      "\n"
     ]
    }
   ],
   "source": [
    "#Define the list of stocks\n",
    "stocks = ['AA', 'A', 'AAL']\n",
    "\n",
    "for stock in stocks:\n",
    "    # Download historical stock data\n",
    "    stock_data = yf.download(stock, period='max')\n",
    "\n",
    "    # Get the earliest and latest dates available for the stock\n",
    "    earliest_date = stock_data.index.min().strftime('%Y-%m-%d')\n",
    "    latest_date = stock_data.index.max().strftime('%Y-%m-%d')\n",
    "\n",
    "    print(f\"{stock}: Earliest Date - {earliest_date}, Latest Date - {latest_date}\")\n",
    "\n",
    "    # Fetch stock prices for the defined period\n",
    "    stock_prices = yf.download(stock, start=earliest_date, end=latest_date)\n",
    "\n",
    "    print(stock_prices)"
   ]
  },
  {
   "cell_type": "code",
   "execution_count": 49,
   "metadata": {},
   "outputs": [
    {
     "name": "stdout",
     "output_type": "stream",
     "text": [
      "Correlation between sentiment and stock price for ZTR: nan\n"
     ]
    }
   ],
   "source": [
    "\n",
    "\n",
    "# Sample news sentiment data\n",
    "news_data = pd.DataFrame({\n",
    " 'Date': ['2024-04-26', '2024-04-29', '2024-04-30'],\n",
    " 'Sentiment': [0.5, 0.3, -0.2]\n",
    "})\n",
    "\n",
    "\n",
    "\n",
    "# Convert 'Date' column to datetime format\n",
    "news_data['Date'] = pd.to_datetime(news_data['Date'])\n",
    "\n",
    "# Merge news sentiment data with stock price data based on publication date\n",
    "merged_data = pd.merge(news_data, stock_data, left_on='Date', right_index=True, how='inner')\n",
    "\n",
    "# Calculate correlation between sentiment and stock price\n",
    "correlation = merged_data['Sentiment'].corr(merged_data['Close'])\n",
    "\n",
    "\n",
    "print(f\"Correlation between sentiment and stock price for {stock}: {correlation}\")"
   ]
  },
  {
   "cell_type": "code",
   "execution_count": 47,
   "metadata": {},
   "outputs": [
    {
     "name": "stderr",
     "output_type": "stream",
     "text": [
      "[*********************100%%**********************]  1 of 1 completed"
     ]
    },
    {
     "name": "stderr",
     "output_type": "stream",
     "text": [
      "\n"
     ]
    },
    {
     "name": "stdout",
     "output_type": "stream",
     "text": [
      "Correlation between sentiment and stock price for AA: nan\n"
     ]
    },
    {
     "name": "stderr",
     "output_type": "stream",
     "text": [
      "[*********************100%%**********************]  1 of 1 completed\n"
     ]
    },
    {
     "name": "stdout",
     "output_type": "stream",
     "text": [
      "Correlation between sentiment and stock price for A: nan\n"
     ]
    },
    {
     "name": "stderr",
     "output_type": "stream",
     "text": [
      "[*********************100%%**********************]  1 of 1 completed"
     ]
    },
    {
     "name": "stdout",
     "output_type": "stream",
     "text": [
      "Correlation between sentiment and stock price for AAL: nan\n"
     ]
    },
    {
     "name": "stderr",
     "output_type": "stream",
     "text": [
      "\n"
     ]
    }
   ],
   "source": [
    "\n",
    "\n",
    "for stock in stocks:\n",
    "    # Download historical stock price data for the stock\n",
    "    stock_data = yf.download(stock, start='2021-01-01', end='2021-12-31')\n",
    "    # Merge news sentiment data with stock price data based on publication date\n",
    "    merged_data = pd.merge(news_data, stock_data, left_on='Date', right_index=True, how='inner')\n",
    "\n",
    "    # Calculate correlation between sentiment and stock price\n",
    "    correlation = merged_data['Sentiment'].corr(merged_data['Close'])\n",
    "\n",
    "    print(f\"Correlation between sentiment and stock price for {stock}: {correlation}\")"
   ]
  },
  {
   "cell_type": "code",
   "execution_count": 51,
   "metadata": {},
   "outputs": [
    {
     "name": "stderr",
     "output_type": "stream",
     "text": [
      "[*********************100%%**********************]  1 of 1 completed\n",
      "\n",
      "1 Failed download:\n",
      "['ZX']: Exception('%ticker%: No price data found, symbol may be delisted (1d 2021-01-01 -> 2021-12-31)')\n",
      "[*********************100%%**********************]  1 of 1 completed\n",
      "[*********************100%%**********************]  1 of 1 completed\n",
      "\n",
      "1 Failed download:\n",
      "['ZU']: Exception('%ticker%: No timezone found, symbol may be delisted')\n"
     ]
    },
    {
     "name": "stderr",
     "output_type": "stream",
     "text": [
      "[*********************100%%**********************]  1 of 1 completed\n",
      "[*********************100%%**********************]  1 of 1 completed\n",
      "[*********************100%%**********************]  1 of 1 completed\n",
      "\n",
      "1 Failed download:\n",
      "['AAC']: Exception('%ticker%: No timezone found, symbol may be delisted')\n",
      "[*********************100%%**********************]  1 of 1 completed\n",
      "[*********************100%%**********************]  1 of 1 completed"
     ]
    },
    {
     "name": "stdout",
     "output_type": "stream",
     "text": [
      "Correlation between sentiment and stock price for ZX: nan\n",
      "Correlation between sentiment and stock price for ZUMZ: nan\n",
      "Correlation between sentiment and stock price for ZU: nan\n",
      "Correlation between sentiment and stock price for ZTS: nan\n",
      "Correlation between sentiment and stock price for AADR: nan\n",
      "Correlation between sentiment and stock price for AAC: nan\n",
      "Correlation between sentiment and stock price for AAL: nan\n"
     ]
    },
    {
     "name": "stderr",
     "output_type": "stream",
     "text": [
      "\n",
      "[*********************100%%**********************]  1 of 1 completed\n",
      "[*********************100%%**********************]  1 of 1 completed"
     ]
    },
    {
     "name": "stdout",
     "output_type": "stream",
     "text": [
      "Correlation between sentiment and stock price for A: nan\n",
      "Correlation between sentiment and stock price for AA: nan\n",
      "Correlation between sentiment and stock price for ZTR: nan\n"
     ]
    },
    {
     "name": "stderr",
     "output_type": "stream",
     "text": [
      "\n"
     ]
    }
   ],
   "source": [
    "\n",
    "\n",
    "# Sample news sentiment data\n",
    "news_data = pd.DataFrame({\n",
    "    'Date': ['2024-04-26', '2024-04-29', '2024-04-30'],\n",
    "    'Sentiment': [0.6, 0.1, -0.5]\n",
    "})\n",
    "\n",
    "# List of stock tickers\n",
    "stocks = ['ZX', 'ZUMZ', 'ZU', 'ZTS', 'AADR', 'AAC', 'AAL', 'A', 'AA', 'ZTR']\n",
    "\n",
    "for stock in stocks:\n",
    "    # Download historical stock price data for the stock\n",
    "    stock_data = yf.download(stock, start='2021-01-01', end='2021-12-31')\n",
    "\n",
    "    # Convert 'Date' column to datetime format\n",
    "    news_data['Date'] = pd.to_datetime(news_data['Date'])\n",
    "\n",
    "    # Merge news sentiment data with stock price data based on publication date\n",
    "    merged_data = pd.merge(news_data, stock_data, left_on='Date', right_index=True, how='inner')\n",
    "\n",
    "    # Calculate correlation between sentiment and stock price\n",
    "    correlation = merged_data['Sentiment'].corr(merged_data['Close'])\n",
    "\n",
    "    print(f\"Correlation between sentiment and stock price for {stock}: {correlation}\")"
   ]
  }
 ],
 "metadata": {
  "kernelspec": {
   "display_name": ".venv",
   "language": "python",
   "name": "python3"
  },
  "language_info": {
   "codemirror_mode": {
    "name": "ipython",
    "version": 3
   },
   "file_extension": ".py",
   "mimetype": "text/x-python",
   "name": "python",
   "nbconvert_exporter": "python",
   "pygments_lexer": "ipython3",
   "version": "3.11.1"
  }
 },
 "nbformat": 4,
 "nbformat_minor": 2
}
