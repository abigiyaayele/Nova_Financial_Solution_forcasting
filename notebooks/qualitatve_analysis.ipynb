{
 "cells": [
  {
   "cell_type": "markdown",
   "metadata": {},
   "source": [
    "Ta-lib"
   ]
  },
  {
   "cell_type": "code",
   "execution_count": 18,
   "metadata": {},
   "outputs": [],
   "source": [
    "import talib\n",
    "import pandas as pd\n",
    "import numpy as np\n",
    "import yfinance as yf"
   ]
  },
  {
   "cell_type": "code",
   "execution_count": 19,
   "metadata": {},
   "outputs": [
    {
     "name": "stdout",
     "output_type": "stream",
     "text": [
      "   Unnamed: 0                                           headline  \\\n",
      "0           0            Stocks That Hit 52-Week Highs On Friday   \n",
      "1           1         Stocks That Hit 52-Week Highs On Wednesday   \n",
      "2           2                      71 Biggest Movers From Friday   \n",
      "3           3       46 Stocks Moving In Friday's Mid-Day Session   \n",
      "4           4  B of A Securities Maintains Neutral on Agilent...   \n",
      "\n",
      "                                                 url          publisher  \\\n",
      "0  https://www.benzinga.com/news/20/06/16190091/s...  Benzinga Insights   \n",
      "1  https://www.benzinga.com/news/20/06/16170189/s...  Benzinga Insights   \n",
      "2  https://www.benzinga.com/news/20/05/16103463/7...         Lisa Levin   \n",
      "3  https://www.benzinga.com/news/20/05/16095921/4...         Lisa Levin   \n",
      "4  https://www.benzinga.com/news/20/05/16095304/b...         Vick Meyer   \n",
      "\n",
      "                        date stock  \n",
      "0  2020-06-05 10:30:54-04:00     A  \n",
      "1  2020-06-03 10:45:20-04:00     A  \n",
      "2  2020-05-26 04:30:07-04:00     A  \n",
      "3  2020-05-22 12:45:06-04:00     A  \n",
      "4  2020-05-22 11:38:59-04:00     A  \n"
     ]
    }
   ],
   "source": [
    "file_path = \"../data/raw_analyst_ratings.csv\"\n",
    "df= pd.read_csv(file_path)\n",
    "\n",
    "# Display the first few rows\n",
    "print(df.head())"
   ]
  },
  {
   "cell_type": "markdown",
   "metadata": {},
   "source": [
    "Load and prepare the data."
   ]
  },
  {
   "cell_type": "code",
   "execution_count": 20,
   "metadata": {},
   "outputs": [
    {
     "name": "stderr",
     "output_type": "stream",
     "text": [
      "[*********************100%%**********************]  1 of 1 completed\n",
      "[*********************100%%**********************]  1 of 1 completed"
     ]
    },
    {
     "name": "stdout",
     "output_type": "stream",
     "text": [
      "AA: Earliest Date - 1962-01-02, Latest Date - 2024-05-02\n",
      "                 Open       High        Low      Close  Adj Close   Volume\n",
      "Date                                                                      \n",
      "1962-01-02   0.000000   6.583219   6.545672   6.545672   1.506893    55930\n",
      "1962-01-03   6.545672   6.645797   6.533156   6.645797   1.529942    74906\n",
      "1962-01-04   6.645797   6.695859   6.645797   6.645797   1.529942    80899\n",
      "1962-01-05   6.645797   6.683344   6.620766   6.633281   1.527060    70911\n",
      "1962-01-08   6.608250   6.608250   6.357938   6.408000   1.475198    93883\n",
      "...               ...        ...        ...        ...        ...      ...\n",
      "2024-04-25  35.860001  36.060001  34.779999  35.939999  35.939999  4467400\n",
      "2024-04-26  36.509998  37.389999  36.230000  36.880001  36.880001  5653300\n",
      "2024-04-29  36.880001  38.200001  36.650002  37.650002  37.650002  5667100\n",
      "2024-04-30  36.759998  36.919998  35.110001  35.139999  35.139999  7993000\n",
      "2024-05-01  35.200001  35.470001  33.880001  34.250000  34.250000  8382000\n",
      "\n",
      "[15690 rows x 6 columns]\n"
     ]
    },
    {
     "name": "stderr",
     "output_type": "stream",
     "text": [
      "\n"
     ]
    }
   ],
   "source": [
    "stocks = ['AA' ]\n",
    "\n",
    "for stock in stocks:\n",
    "    # Download historical stock data\n",
    "    stock_data = yf.download(stock, period='max')\n",
    "\n",
    "    # Get the earliest and latest dates available for the stock\n",
    "    earliest_date = stock_data.index.min().strftime('%Y-%m-%d')\n",
    "    latest_date = stock_data.index.max().strftime('%Y-%m-%d')\n",
    "\n",
    "    print(f\"{stock}: Earliest Date - {earliest_date}, Latest Date - {latest_date}\")\n",
    "\n",
    "    # Fetch stock prices for the defined period\n",
    "    stock_prices = yf.download(stock, start=earliest_date, end=latest_date)\n",
    "\n",
    "    print(stock_prices)"
   ]
  },
  {
   "cell_type": "code",
   "execution_count": 21,
   "metadata": {},
   "outputs": [
    {
     "data": {
      "text/html": [
       "<div>\n",
       "<style scoped>\n",
       "    .dataframe tbody tr th:only-of-type {\n",
       "        vertical-align: middle;\n",
       "    }\n",
       "\n",
       "    .dataframe tbody tr th {\n",
       "        vertical-align: top;\n",
       "    }\n",
       "\n",
       "    .dataframe thead th {\n",
       "        text-align: right;\n",
       "    }\n",
       "</style>\n",
       "<table border=\"1\" class=\"dataframe\">\n",
       "  <thead>\n",
       "    <tr style=\"text-align: right;\">\n",
       "      <th></th>\n",
       "      <th>Open</th>\n",
       "      <th>High</th>\n",
       "      <th>Low</th>\n",
       "      <th>Close</th>\n",
       "      <th>Volume</th>\n",
       "    </tr>\n",
       "    <tr>\n",
       "      <th>Date</th>\n",
       "      <th></th>\n",
       "      <th></th>\n",
       "      <th></th>\n",
       "      <th></th>\n",
       "      <th></th>\n",
       "    </tr>\n",
       "  </thead>\n",
       "  <tbody>\n",
       "    <tr>\n",
       "      <th>1962-01-02</th>\n",
       "      <td>0.000000</td>\n",
       "      <td>6.583219</td>\n",
       "      <td>6.545672</td>\n",
       "      <td>6.545672</td>\n",
       "      <td>55930</td>\n",
       "    </tr>\n",
       "    <tr>\n",
       "      <th>1962-01-03</th>\n",
       "      <td>6.545672</td>\n",
       "      <td>6.645797</td>\n",
       "      <td>6.533156</td>\n",
       "      <td>6.645797</td>\n",
       "      <td>74906</td>\n",
       "    </tr>\n",
       "    <tr>\n",
       "      <th>1962-01-04</th>\n",
       "      <td>6.645797</td>\n",
       "      <td>6.695859</td>\n",
       "      <td>6.645797</td>\n",
       "      <td>6.645797</td>\n",
       "      <td>80899</td>\n",
       "    </tr>\n",
       "    <tr>\n",
       "      <th>1962-01-05</th>\n",
       "      <td>6.645797</td>\n",
       "      <td>6.683344</td>\n",
       "      <td>6.620766</td>\n",
       "      <td>6.633281</td>\n",
       "      <td>70911</td>\n",
       "    </tr>\n",
       "    <tr>\n",
       "      <th>1962-01-08</th>\n",
       "      <td>6.608250</td>\n",
       "      <td>6.608250</td>\n",
       "      <td>6.357938</td>\n",
       "      <td>6.408000</td>\n",
       "      <td>93883</td>\n",
       "    </tr>\n",
       "    <tr>\n",
       "      <th>...</th>\n",
       "      <td>...</td>\n",
       "      <td>...</td>\n",
       "      <td>...</td>\n",
       "      <td>...</td>\n",
       "      <td>...</td>\n",
       "    </tr>\n",
       "    <tr>\n",
       "      <th>2024-04-25</th>\n",
       "      <td>35.860001</td>\n",
       "      <td>36.060001</td>\n",
       "      <td>34.779999</td>\n",
       "      <td>35.939999</td>\n",
       "      <td>4467400</td>\n",
       "    </tr>\n",
       "    <tr>\n",
       "      <th>2024-04-26</th>\n",
       "      <td>36.509998</td>\n",
       "      <td>37.389999</td>\n",
       "      <td>36.230000</td>\n",
       "      <td>36.880001</td>\n",
       "      <td>5653300</td>\n",
       "    </tr>\n",
       "    <tr>\n",
       "      <th>2024-04-29</th>\n",
       "      <td>36.880001</td>\n",
       "      <td>38.200001</td>\n",
       "      <td>36.650002</td>\n",
       "      <td>37.650002</td>\n",
       "      <td>5667100</td>\n",
       "    </tr>\n",
       "    <tr>\n",
       "      <th>2024-04-30</th>\n",
       "      <td>36.759998</td>\n",
       "      <td>36.919998</td>\n",
       "      <td>35.110001</td>\n",
       "      <td>35.139999</td>\n",
       "      <td>7993000</td>\n",
       "    </tr>\n",
       "    <tr>\n",
       "      <th>2024-05-01</th>\n",
       "      <td>35.200001</td>\n",
       "      <td>35.470001</td>\n",
       "      <td>33.880001</td>\n",
       "      <td>34.250000</td>\n",
       "      <td>8382000</td>\n",
       "    </tr>\n",
       "  </tbody>\n",
       "</table>\n",
       "<p>15690 rows × 5 columns</p>\n",
       "</div>"
      ],
      "text/plain": [
       "                 Open       High        Low      Close   Volume\n",
       "Date                                                           \n",
       "1962-01-02   0.000000   6.583219   6.545672   6.545672    55930\n",
       "1962-01-03   6.545672   6.645797   6.533156   6.645797    74906\n",
       "1962-01-04   6.645797   6.695859   6.645797   6.645797    80899\n",
       "1962-01-05   6.645797   6.683344   6.620766   6.633281    70911\n",
       "1962-01-08   6.608250   6.608250   6.357938   6.408000    93883\n",
       "...               ...        ...        ...        ...      ...\n",
       "2024-04-25  35.860001  36.060001  34.779999  35.939999  4467400\n",
       "2024-04-26  36.509998  37.389999  36.230000  36.880001  5653300\n",
       "2024-04-29  36.880001  38.200001  36.650002  37.650002  5667100\n",
       "2024-04-30  36.759998  36.919998  35.110001  35.139999  7993000\n",
       "2024-05-01  35.200001  35.470001  33.880001  34.250000  8382000\n",
       "\n",
       "[15690 rows x 5 columns]"
      ]
     },
     "execution_count": 21,
     "metadata": {},
     "output_type": "execute_result"
    }
   ],
   "source": [
    "# Create an empty DataFrame\n",
    "stock_prices_df = pd.DataFrame(stock_prices)\n",
    "stock_prices_df.rename(columns={\"Open\": \"open\", \"High\": \"high\", \"Low\": \"low\", \"Close\": \"close\", \"Volume\": \"volume\"})\n",
    "# Ensure data includes columns like Open, High, Low, Close, and Volume.\n",
    "stock_prices_df = stock_prices_df.drop(columns=['Adj Close'])\n",
    "\n",
    "stock_prices_df"
   ]
  },
  {
   "cell_type": "markdown",
   "metadata": {},
   "source": [
    "Analysis Indicators with TA-Lib\n"
   ]
  },
  {
   "cell_type": "code",
   "execution_count": null,
   "metadata": {},
   "outputs": [],
   "source": [
    "\n"
   ]
  }
 ],
 "metadata": {
  "kernelspec": {
   "display_name": ".venv",
   "language": "python",
   "name": "python3"
  },
  "language_info": {
   "codemirror_mode": {
    "name": "ipython",
    "version": 3
   },
   "file_extension": ".py",
   "mimetype": "text/x-python",
   "name": "python",
   "nbconvert_exporter": "python",
   "pygments_lexer": "ipython3",
   "version": "3.11.1"
  }
 },
 "nbformat": 4,
 "nbformat_minor": 2
}
